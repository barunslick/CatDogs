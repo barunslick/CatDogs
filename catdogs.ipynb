{
 "cells": [
  {
   "cell_type": "code",
   "execution_count": 6,
   "metadata": {},
   "outputs": [],
   "source": [
    "import numpy as np\n",
    "import tensorflow as tf\n",
    "import matplotlib.pyplot as plt\n",
    "import os\n",
    "import cv2"
   ]
  },
  {
   "cell_type": "code",
   "execution_count": 5,
   "metadata": {},
   "outputs": [],
   "source": [
    "directory = os.getcwd()+\"/PetImages\"\n",
    "categories = 'Dog Cat'.split()"
   ]
  },
  {
   "cell_type": "code",
   "execution_count": 4,
   "metadata": {},
   "outputs": [],
   "source": [
    "imgSize = 60"
   ]
  },
  {
   "cell_type": "code",
   "execution_count": 4,
   "metadata": {},
   "outputs": [],
   "source": [
    "trainingSet = []\n",
    "def createTrainingSet():\n",
    "    for category in categories:\n",
    "        path = os.path.join(directory,category)\n",
    "        for imgIndex in os.listdir(path):\n",
    "            try:\n",
    "                img = cv2.imread(os.path.join(path,imgIndex),cv2.IMREAD_GRAYSCALE)\n",
    "                resizedImg = cv2.resize(img,(imgSize,imgSize))\n",
    "                trainingSet.append([resizedImg,categories.index(category)])\n",
    "            except Exception as e:\n",
    "                pass\n",
    "createTrainingSet()"
   ]
  },
  {
   "cell_type": "code",
   "execution_count": 6,
   "metadata": {},
   "outputs": [
    {
     "ename": "NameError",
     "evalue": "name 'trainingSet' is not defined",
     "output_type": "error",
     "traceback": [
      "\u001b[0;31m---------------------------------------------------------------------------\u001b[0m",
      "\u001b[0;31mNameError\u001b[0m                                 Traceback (most recent call last)",
      "\u001b[0;32m<ipython-input-6-ce54312aaf3c>\u001b[0m in \u001b[0;36m<module>\u001b[0;34m\u001b[0m\n\u001b[1;32m      1\u001b[0m \u001b[0;32mimport\u001b[0m \u001b[0mrandom\u001b[0m\u001b[0;34m\u001b[0m\u001b[0;34m\u001b[0m\u001b[0m\n\u001b[0;32m----> 2\u001b[0;31m \u001b[0mrandom\u001b[0m\u001b[0;34m.\u001b[0m\u001b[0mshuffle\u001b[0m\u001b[0;34m(\u001b[0m\u001b[0mtrainingSet\u001b[0m\u001b[0;34m)\u001b[0m\u001b[0;34m\u001b[0m\u001b[0;34m\u001b[0m\u001b[0m\n\u001b[0m",
      "\u001b[0;31mNameError\u001b[0m: name 'trainingSet' is not defined"
     ]
    }
   ],
   "source": [
    "import random\n",
    "random.shuffle(trainingSet)"
   ]
  },
  {
   "cell_type": "code",
   "execution_count": 33,
   "metadata": {},
   "outputs": [],
   "source": [
    "inputImageFeatues = []\n",
    "target = []\n",
    "for features,label in trainingSet:\n",
    "    inputImageFeatues.append(features)\n",
    "    target.append(label)\n",
    "inputArray = np.array(inputImageFeatues).reshape(-1,imgSize,imgSize,1)\n",
    "targets = np.array(target)"
   ]
  },
  {
   "cell_type": "code",
   "execution_count": 7,
   "metadata": {},
   "outputs": [
    {
     "ename": "NameError",
     "evalue": "name 'inputArray' is not defined",
     "output_type": "error",
     "traceback": [
      "\u001b[0;31m---------------------------------------------------------------------------\u001b[0m",
      "\u001b[0;31mNameError\u001b[0m                                 Traceback (most recent call last)",
      "\u001b[0;32m<ipython-input-7-93a751d62d59>\u001b[0m in \u001b[0;36m<module>\u001b[0;34m\u001b[0m\n\u001b[0;32m----> 1\u001b[0;31m \u001b[0mnp\u001b[0m\u001b[0;34m.\u001b[0m\u001b[0msavez\u001b[0m\u001b[0;34m(\u001b[0m\u001b[0;34m'inputArray.npz'\u001b[0m\u001b[0;34m,\u001b[0m\u001b[0minputForArray\u001b[0m \u001b[0;34m=\u001b[0m \u001b[0minputArray\u001b[0m\u001b[0;34m,\u001b[0m \u001b[0mtargetForArray\u001b[0m \u001b[0;34m=\u001b[0m \u001b[0mtargets\u001b[0m\u001b[0;34m)\u001b[0m \u001b[0;31m#you dont want to perform these calculations everty time\u001b[0m\u001b[0;34m\u001b[0m\u001b[0;34m\u001b[0m\u001b[0m\n\u001b[0m",
      "\u001b[0;31mNameError\u001b[0m: name 'inputArray' is not defined"
     ]
    }
   ],
   "source": [
    "np.savez('inputArray.npz',inputForArray = inputArray, targetForArray = targets) #you dont want to perform these calculations everty time"
   ]
  },
  {
   "cell_type": "code",
   "execution_count": 17,
   "metadata": {},
   "outputs": [],
   "source": [
    "data = np.load('inputArray.npz')\n",
    "inputs = data['inputForArray']\n",
    "targetsFinal = data['targetForArray']"
   ]
  },
  {
   "cell_type": "code",
   "execution_count": 49,
   "metadata": {},
   "outputs": [
    {
     "data": {
      "text/plain": [
       "(24946,)"
      ]
     },
     "execution_count": 49,
     "metadata": {},
     "output_type": "execute_result"
    }
   ],
   "source": [
    "inputScaled = inputs/255.0"
   ]
  },
  {
   "cell_type": "code",
   "execution_count": 26,
   "metadata": {},
   "outputs": [],
   "source": [
    "model = tf.keras.Sequential([\n",
    "    tf.keras.layers.Conv2D(64,(2,2), activation='relu', input_shape = inputScaled.shape[1:]),\n",
    "    tf.keras.layers.MaxPool2D(pool_size=(2, 2)),\n",
    "    tf.keras.layers.Conv2D(64,(2,2), activation='relu'),\n",
    "    tf.keras.layers.MaxPool2D(pool_size=(2, 2)),\n",
    "    tf.keras.layers.Flatten(),\n",
    "    tf.keras.layers.Dense(64,activation='relu'),\n",
    "    tf.keras.layers.Dense(32,activation='relu'),\n",
    "    tf.keras.layers.Dense(1,activation='sigmoid')  \n",
    "])\n"
   ]
  },
  {
   "cell_type": "code",
   "execution_count": 27,
   "metadata": {},
   "outputs": [],
   "source": [
    "model.compile(loss='binary_crossentropy',optimizer='adam',metrics=['accuracy'])"
   ]
  },
  {
   "cell_type": "code",
   "execution_count": 30,
   "metadata": {},
   "outputs": [
    {
     "name": "stdout",
     "output_type": "stream",
     "text": [
      "Train on 22451 samples, validate on 2495 samples\n",
      "Epoch 1/5\n",
      "22451/22451 [==============================] - 59s 3ms/sample - loss: 0.5902 - accuracy: 0.6756 - val_loss: 0.5323 - val_accuracy: 0.7319\n",
      "Epoch 2/5\n",
      "22451/22451 [==============================] - 64s 3ms/sample - loss: 0.4922 - accuracy: 0.7590 - val_loss: 0.4931 - val_accuracy: 0.7511\n",
      "Epoch 3/5\n",
      "22451/22451 [==============================] - 85s 4ms/sample - loss: 0.4416 - accuracy: 0.7946 - val_loss: 0.4686 - val_accuracy: 0.7752\n",
      "Epoch 4/5\n",
      "22451/22451 [==============================] - 66s 3ms/sample - loss: 0.4008 - accuracy: 0.8163 - val_loss: 0.4565 - val_accuracy: 0.7760\n",
      "Epoch 5/5\n",
      "22451/22451 [==============================] - 63s 3ms/sample - loss: 0.3584 - accuracy: 0.8365 - val_loss: 0.4688 - val_accuracy: 0.7824\n"
     ]
    },
    {
     "data": {
      "text/plain": [
       "<tensorflow.python.keras.callbacks.History at 0x7f2ca8188350>"
      ]
     },
     "execution_count": 30,
     "metadata": {},
     "output_type": "execute_result"
    }
   ],
   "source": [
    "model.fit(inputScaled, targetsFinal, epochs = 5, batch_size = 32 ,validation_split = 0.1)"
   ]
  },
  {
   "cell_type": "code",
   "execution_count": 31,
   "metadata": {},
   "outputs": [
    {
     "name": "stdout",
     "output_type": "stream",
     "text": [
      "WARNING:tensorflow:From /home/smooth/anaconda3/envs/py3-TF2.0/lib/python3.7/site-packages/tensorflow_core/python/ops/resource_variable_ops.py:1781: calling BaseResourceVariable.__init__ (from tensorflow.python.ops.resource_variable_ops) with constraint is deprecated and will be removed in a future version.\n",
      "Instructions for updating:\n",
      "If using Keras pass *_constraint arguments to layers.\n",
      "INFO:tensorflow:Assets written to: catdogsFirstModel.model/assets\n"
     ]
    }
   ],
   "source": [
    "model.save('catdogsFirstModel.model')"
   ]
  },
  {
   "cell_type": "code",
   "execution_count": 42,
   "metadata": {},
   "outputs": [
    {
     "name": "stdout",
     "output_type": "stream",
     "text": [
      "[NbConvertApp] Converting notebook catdogs.ipynb to script\n",
      "[NbConvertApp] Writing 2123 bytes to catdogs.py\n"
     ]
    }
   ],
   "source": [
    "!jupyter nbconvert --to script catdogs.ipynb"
   ]
  },
  {
   "cell_type": "code",
   "execution_count": null,
   "metadata": {},
   "outputs": [],
   "source": []
  }
 ],
 "metadata": {
  "kernelspec": {
   "display_name": "Python [conda env:py3-TF2.0] *",
   "language": "python",
   "name": "conda-env-py3-TF2.0-py"
  },
  "language_info": {
   "codemirror_mode": {
    "name": "ipython",
    "version": 3
   },
   "file_extension": ".py",
   "mimetype": "text/x-python",
   "name": "python",
   "nbconvert_exporter": "python",
   "pygments_lexer": "ipython3",
   "version": "3.7.6"
  }
 },
 "nbformat": 4,
 "nbformat_minor": 4
}
